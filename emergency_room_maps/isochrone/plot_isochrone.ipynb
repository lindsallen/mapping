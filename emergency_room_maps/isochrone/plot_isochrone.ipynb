{
 "cells": [
  {
   "cell_type": "code",
   "execution_count": 1,
   "metadata": {},
   "outputs": [],
   "source": [
    "import os\n",
    "import geopandas as gpd\n",
    "import pandas as pd\n",
    "import folium\n",
    "import shapely\n",
    "import numpy as np\n",
    "#import pyproj\n",
    "from shapely.geometry import Point, LineString, Polygon\n",
    "from shapely.ops import cascaded_union"
   ]
  },
  {
   "cell_type": "code",
   "execution_count": 2,
   "metadata": {},
   "outputs": [
    {
     "name": "stdout",
     "output_type": "stream",
     "text": [
      "C:\\Users\\linds\\Documents\\soa_prez_thegist\\isochrone\n"
     ]
    }
   ],
   "source": [
    "hwd = os.getcwd()\n",
    "print(hwd)"
   ]
  },
  {
   "cell_type": "code",
   "execution_count": 3,
   "metadata": {},
   "outputs": [],
   "source": [
    "os.chdir(\"..\")"
   ]
  },
  {
   "cell_type": "markdown",
   "metadata": {},
   "source": [
    "## Putting all polys into 1 file"
   ]
  },
  {
   "cell_type": "code",
   "execution_count": 10,
   "metadata": {},
   "outputs": [
    {
     "name": "stdout",
     "output_type": "stream",
     "text": [
      "365\n",
      "365\n"
     ]
    }
   ],
   "source": [
    "x = np.arange(1,73)\n",
    "\n",
    "all_polys = gpd.read_file(\"gis_data\\\\isochrones\\\\ER_1.json\")\n",
    "\n",
    "for i in x:\n",
    "    i = i + 1\n",
    "    one_poly_file = \"gis_data\\\\isochrones\\\\ER_\" + str(i) + \".json\"\n",
    "\n",
    "    poly_add = gpd.read_file(one_poly_file)\n",
    "\n",
    "    all_polys = pd.concat([all_polys,poly_add])\n",
    "    \n",
    "all_polys = all_polys.sort_values(by=['drivetime'], ascending=False)\n",
    "\n",
    "all_polys.to_file(\"gis_data\\\\isochrones\\\\all_ER_polys.json\", driver=\"GeoJSON\")\n",
    "\n",
    "print(73*5)\n",
    "print(len(all_polys))"
   ]
  },
  {
   "cell_type": "code",
   "execution_count": 11,
   "metadata": {},
   "outputs": [],
   "source": [
    "all_polys = gpd.read_file(\"gis_data\\\\isochrones\\\\all_ER_polys.json\")\n",
    "\n",
    "## this creates a 400KB file, which is really difficult to use\n",
    "m = folium.Map(location=[40.353944, -74.063478])\n",
    "\n",
    "folium.GeoJson(\n",
    "    all_polys,\n",
    "    name='geojson',    \n",
    "    \n",
    "    ## controls the fill of the geo regions; applying colorscale based on variable\n",
    "    style_function=lambda x: {\"weight\":1\n",
    "                ## color of outline\n",
    "                , 'color': '#545453'\n",
    "                ## pulling fill color from the geopandas file\n",
    "                , 'fillColor': x['properties']['color']\n",
    "                , 'fillOpacity': 0.65 },\n",
    "    \n",
    "                ## changes styling of geo regions upon hover\n",
    "                highlight_function=lambda x: {'weight':3, 'color':'black', 'fillOpacity': 1}, \n",
    "               \n",
    "                ## tooltip can include information from any column in the GeoPandas dataframe   \n",
    "                tooltip=folium.features.GeoJsonTooltip(\n",
    "                fields=['drivetime'],\n",
    "                aliases=['Drivetime (Mins):'])\n",
    "    \n",
    ").add_to(m)\n",
    "\n",
    "m.save(\"isochrone\\\\nj_drivetime_all.html\")"
   ]
  },
  {
   "cell_type": "markdown",
   "metadata": {},
   "source": [
    "## Let's examine an individual polygon to learn more about it"
   ]
  },
  {
   "cell_type": "code",
   "execution_count": 12,
   "metadata": {},
   "outputs": [],
   "source": [
    "one_poly = gpd.read_file(\"gis_data\\\\isochrones\\\\ER_1.json\")"
   ]
  },
  {
   "cell_type": "code",
   "execution_count": 13,
   "metadata": {},
   "outputs": [
    {
     "name": "stdout",
     "output_type": "stream",
     "text": [
      "5\n",
      "32046\n",
      "532269.5901560324\n"
     ]
    }
   ],
   "source": [
    "## each polygon has \n",
    "print(len(one_poly['geometry'])) ## 5 geometries (5,10,15,20,25)\n",
    "\n",
    "geom = one_poly['geometry'][0] \n",
    "\n",
    "print(len(geom.exterior.coords)) ## first geom has 32K+ coordinates\n",
    "\n",
    "x, y = geom.exterior.coords.xy ## coordinates are in Mercator format, with 10 digits\n",
    "\n",
    "print(x[0])"
   ]
  },
  {
   "cell_type": "code",
   "execution_count": 14,
   "metadata": {},
   "outputs": [
    {
     "name": "stdout",
     "output_type": "stream",
     "text": [
      "5986\n",
      "532269.5901560324\n"
     ]
    }
   ],
   "source": [
    "#https://shapely.readthedocs.io/en/stable/manual.html#object.simplify\n",
    "\n",
    "simple_poly = one_poly\n",
    "simple_poly['geometry'] = simple_poly['geometry'].simplify(2, preserve_topology = False)\n",
    "\n",
    "geom = simple_poly['geometry'][0] \n",
    "\n",
    "print(len(geom.exterior.coords)) ## first geom has 6K+ coordinates\n",
    "\n",
    "x, y = geom.exterior.coords.xy ## coordinates are in Mercator format, with 10 digits\n",
    "\n",
    "print(x[0])\n",
    "\n",
    "simple_poly.to_file(\"gis_data\\\\isochrones\\\\simple\\\\ER_1_r.json\", driver=\"GeoJSON\") ## polygon is 20% of the size"
   ]
  },
  {
   "cell_type": "markdown",
   "metadata": {},
   "source": [
    "## Applying the reduction to all of the drivetime polygons"
   ]
  },
  {
   "cell_type": "code",
   "execution_count": 15,
   "metadata": {},
   "outputs": [],
   "source": [
    "x = np.arange(1,74)\n",
    "\n",
    "for i in x:\n",
    "    one_poly_file = \"gis_data\\\\isochrones\\\\ER_\" + str(i) + \".json\"\n",
    "    one_poly = gpd.read_file(one_poly_file)\n",
    "    one_poly['geometry'] = one_poly['geometry'].simplify(2, preserve_topology = False)\n",
    "    \n",
    "    one_poly_file = \"gis_data\\\\isochrones\\\\simple\\\\ER_\" + str(i) + \"_r.json\"\n",
    "    \n",
    "    one_poly.to_file(one_poly_file, driver=\"GeoJSON\") "
   ]
  },
  {
   "cell_type": "code",
   "execution_count": 16,
   "metadata": {},
   "outputs": [
    {
     "name": "stdout",
     "output_type": "stream",
     "text": [
      "365\n",
      "365\n"
     ]
    }
   ],
   "source": [
    "## re-running poly consolidation on the simple polys\n",
    "x = np.arange(1,73)\n",
    "\n",
    "all_polys = gpd.read_file('gis_data\\\\isochrones\\\\simple\\\\ER_1_r.json')\n",
    "\n",
    "for i in x:\n",
    "    i = i + 1\n",
    "    one_poly_file = \"gis_data\\\\isochrones\\\\simple\\\\ER_\" + str(i) + \"_r.json\"\n",
    "\n",
    "    poly_add = gpd.read_file(one_poly_file)\n",
    "\n",
    "    all_polys = pd.concat([all_polys,poly_add])\n",
    "    \n",
    "all_polys = all_polys.sort_values(by=['drivetime'], ascending=False)\n",
    "\n",
    "all_polys.to_file(\"gis_data\\\\isochrones\\\\simple\\\\all_ER_polys_r.json\", driver=\"GeoJSON\")\n",
    "\n",
    "print(73*5)\n",
    "print(len(all_polys))"
   ]
  },
  {
   "cell_type": "code",
   "execution_count": 18,
   "metadata": {},
   "outputs": [],
   "source": [
    "all_polys = gpd.read_file(\"gis_data\\\\isochrones\\\\simple\\\\all_ER_polys_r.json\")\n",
    "all_polys['geometry'] = all_polys['geometry'].simplify(2.5, preserve_topology = False)"
   ]
  },
  {
   "cell_type": "code",
   "execution_count": 19,
   "metadata": {},
   "outputs": [],
   "source": [
    "all_polys = gpd.read_file('gis_data\\\\isochrones\\\\simple\\\\all_ER_polys_r.json')\n",
    "\n",
    "## this creates a 400KB file, which is really difficult to use\n",
    "m = folium.Map(location=[40.353944, -74.063478])\n",
    "\n",
    "folium.GeoJson(\n",
    "    all_polys,\n",
    "    name='geojson',    \n",
    "    \n",
    "    ## controls the fill of the geo regions; applying colorscale based on variable\n",
    "    style_function=lambda x: {\"weight\":1\n",
    "                ## color of outline\n",
    "                , 'color': '#545453'\n",
    "                ## pulling fill color from the geopandas file\n",
    "                , 'fillColor': x['properties']['color']\n",
    "                , 'fillOpacity': 0.65 },\n",
    "    \n",
    "                ## changes styling of geo regions upon hover\n",
    "                highlight_function=lambda x: {'weight':3, 'color':'black', 'fillOpacity': 1}, \n",
    "               \n",
    "                ## tooltip can include information from any column in the GeoPandas dataframe   \n",
    "                tooltip=folium.features.GeoJsonTooltip(\n",
    "                fields=['ER','drivetime'],\n",
    "                aliases=['Facility', 'Drivetime (Mins):'])\n",
    "    \n",
    ").add_to(m)\n",
    "\n",
    "m.save(\"isochrone\\\\nj_drivetime_all_simple.html\")"
   ]
  },
  {
   "cell_type": "markdown",
   "metadata": {},
   "source": [
    "## Unioning the polygons so we have 1 multi polygon per drivetime"
   ]
  },
  {
   "cell_type": "code",
   "execution_count": 20,
   "metadata": {},
   "outputs": [
    {
     "name": "stdout",
     "output_type": "stream",
     "text": [
      "     color  drivetime    ER                                           geometry\n",
      "0  #f0f921          5  ER_U  MULTIPOLYGON (((537465.107 4355729.742, 537485...\n",
      "     color  drivetime    ER                                           geometry\n",
      "0  #f89540         10  ER_U  MULTIPOLYGON (((535389.887 4352237.245, 535376...\n",
      "     color  drivetime    ER                                           geometry\n",
      "0  #cc4778         15  ER_U  MULTIPOLYGON (((536009.667 4348868.608, 536017...\n",
      "     color  drivetime    ER                                           geometry\n",
      "0  #7e03a8         20  ER_U  MULTIPOLYGON (((534866.661 4345886.093, 534873...\n",
      "     color  drivetime    ER                                           geometry\n",
      "0  #0d0887         25  ER_U  MULTIPOLYGON (((532269.590 4342730.366, 532279...\n"
     ]
    }
   ],
   "source": [
    "all_polys = gpd.read_file('gis_data\\\\isochrones\\\\simple\\\\all_ER_polys_r.json')\n",
    "\n",
    "trip_times = [5, 10, 15, 20, 25] #in minutes\n",
    "\n",
    "for time in trip_times:\n",
    "\n",
    "    poly_sub = all_polys[all_polys['drivetime'] == time]\n",
    "    poly_sub = poly_sub.sort_values(by=['ER'])\n",
    "    \n",
    "    polygon1 = poly_sub.iloc[0,3]\n",
    "    polygon2 = poly_sub.iloc[1,3]\n",
    "    \n",
    "    polygons = [polygon1, polygon2]\n",
    "    \n",
    "    u = cascaded_union(polygons)\n",
    "\n",
    "    color = poly_sub.iloc[0,0]  \n",
    "    drivetime = time\n",
    "    ER = \"ER_U\"\n",
    "    \n",
    "    poly_union = gpd.GeoDataFrame([[color,drivetime, ER, u]], columns = ['color', 'drivetime','ER', 'geometry'], crs=\"EPSG:26918\")\n",
    "    \n",
    "    print(poly_union)\n",
    "    \n",
    "    x = np.arange(2,73)\n",
    "\n",
    "    for i in x:\n",
    "    \n",
    "        polygon1 = poly_union.iloc[0,3]\n",
    "        polygon2 = poly_sub.iloc[i,3]\n",
    "\n",
    "        polygons = [polygon1, polygon2]\n",
    "\n",
    "        u = cascaded_union(polygons)\n",
    "    \n",
    "        poly_union = gpd.GeoDataFrame([[color,drivetime, ER, u]], columns = ['color', 'drivetime','ER', 'geometry'], crs=\"EPSG:26918\")\n",
    "        \n",
    "        filename = \"gis_data\\\\isochrones\\\\simple/ER_\" + str(time) + \"_min_r.json\"\n",
    "        \n",
    "        poly_union.to_file(filename, driver = \"GeoJSON\")"
   ]
  },
  {
   "cell_type": "code",
   "execution_count": 21,
   "metadata": {},
   "outputs": [],
   "source": [
    "union_5 = gpd.read_file(\"gis_data\\\\isochrones\\\\simple\\\\ER_5_min_r.json\")\n",
    "union_10 = gpd.read_file(\"gis_data\\\\isochrones\\\\simple\\\\ER_10_min_r.json\")\n",
    "union_15 = gpd.read_file(\"gis_data\\\\isochrones\\\\simple\\\\ER_15_min_r.json\")\n",
    "union_20 = gpd.read_file(\"gis_data\\\\isochrones\\\\simple\\\\ER_20_min_r.json\")\n",
    "union_25 = gpd.read_file(\"gis_data\\\\isochrones\\\\simple\\\\ER_25_min_r.json\")"
   ]
  },
  {
   "cell_type": "code",
   "execution_count": 12,
   "metadata": {},
   "outputs": [
    {
     "data": {
      "text/html": [
       "<div>\n",
       "<style scoped>\n",
       "    .dataframe tbody tr th:only-of-type {\n",
       "        vertical-align: middle;\n",
       "    }\n",
       "\n",
       "    .dataframe tbody tr th {\n",
       "        vertical-align: top;\n",
       "    }\n",
       "\n",
       "    .dataframe thead th {\n",
       "        text-align: right;\n",
       "    }\n",
       "</style>\n",
       "<table border=\"1\" class=\"dataframe\">\n",
       "  <thead>\n",
       "    <tr style=\"text-align: right;\">\n",
       "      <th></th>\n",
       "      <th>color</th>\n",
       "      <th>drivetime</th>\n",
       "      <th>ER</th>\n",
       "      <th>geometry</th>\n",
       "    </tr>\n",
       "  </thead>\n",
       "  <tbody>\n",
       "    <tr>\n",
       "      <th>0</th>\n",
       "      <td>#0d0887</td>\n",
       "      <td>25</td>\n",
       "      <td>ER_U</td>\n",
       "      <td>MULTIPOLYGON (((507532.432 4310443.621, 507511...</td>\n",
       "    </tr>\n",
       "    <tr>\n",
       "      <th>0</th>\n",
       "      <td>#7e03a8</td>\n",
       "      <td>20</td>\n",
       "      <td>ER_U</td>\n",
       "      <td>MULTIPOLYGON (((508488.824 4315084.509, 508480...</td>\n",
       "    </tr>\n",
       "    <tr>\n",
       "      <th>0</th>\n",
       "      <td>#cc4778</td>\n",
       "      <td>15</td>\n",
       "      <td>ER_U</td>\n",
       "      <td>MULTIPOLYGON (((511469.521 4317752.629, 511418...</td>\n",
       "    </tr>\n",
       "    <tr>\n",
       "      <th>0</th>\n",
       "      <td>#f89540</td>\n",
       "      <td>10</td>\n",
       "      <td>ER_U</td>\n",
       "      <td>MULTIPOLYGON (((513642.993 4321351.898, 513656...</td>\n",
       "    </tr>\n",
       "    <tr>\n",
       "      <th>0</th>\n",
       "      <td>#f0f921</td>\n",
       "      <td>5</td>\n",
       "      <td>ER_U</td>\n",
       "      <td>MULTIPOLYGON (((515362.915 4324919.423, 515372...</td>\n",
       "    </tr>\n",
       "  </tbody>\n",
       "</table>\n",
       "</div>"
      ],
      "text/plain": [
       "     color  drivetime    ER                                           geometry\n",
       "0  #0d0887         25  ER_U  MULTIPOLYGON (((507532.432 4310443.621, 507511...\n",
       "0  #7e03a8         20  ER_U  MULTIPOLYGON (((508488.824 4315084.509, 508480...\n",
       "0  #cc4778         15  ER_U  MULTIPOLYGON (((511469.521 4317752.629, 511418...\n",
       "0  #f89540         10  ER_U  MULTIPOLYGON (((513642.993 4321351.898, 513656...\n",
       "0  #f0f921          5  ER_U  MULTIPOLYGON (((515362.915 4324919.423, 515372..."
      ]
     },
     "execution_count": 12,
     "metadata": {},
     "output_type": "execute_result"
    }
   ],
   "source": [
    "unions = pd.concat([union_5,union_10,union_15,union_20, union_25])\n",
    "unions = unions.sort_values(by=['drivetime'], ascending=False)\n",
    "unions.head()"
   ]
  },
  {
   "cell_type": "code",
   "execution_count": 22,
   "metadata": {},
   "outputs": [],
   "source": [
    "## this creates a 400KB file, which is really difficult to use\n",
    "m = folium.Map(location=[40.353944, -74.063478])\n",
    "\n",
    "## controls the fill of the geo regions; applying colorscale based on variable\n",
    "style = lambda x: {\"weight\":1\n",
    "                ## color of outline\n",
    "                , 'color': '#545453'\n",
    "                ## pulling fill color from the geopandas file\n",
    "                , 'fillColor': x['properties']['color']\n",
    "                , 'fillOpacity': 0.65 }\n",
    "\n",
    "drive_5 = folium.GeoJson(\n",
    "    union_5,\n",
    "    name='5 Minutes',    \n",
    "    style_function= style,\n",
    "    ## changes styling of geo regions upon hover\n",
    "    highlight_function=lambda x: {'weight':3, 'color':'black', 'fillOpacity': 1}, \n",
    "    #tooltip can include information from any column in the GeoPandas dataframe   \n",
    "    tooltip=folium.features.GeoJsonTooltip(\n",
    "    fields=['drivetime'],\n",
    "    aliases=['Drivetime (Mins):'])\n",
    ")\n",
    "\n",
    "drive_10 = folium.GeoJson(\n",
    "    union_10,\n",
    "    name='10 Minutes',    \n",
    "    style_function= style,\n",
    "    ## changes styling of geo regions upon hover\n",
    "    highlight_function=lambda x: {'weight':3, 'color':'black', 'fillOpacity': 1}, \n",
    "    #tooltip can include information from any column in the GeoPandas dataframe   \n",
    "    tooltip=folium.features.GeoJsonTooltip(\n",
    "    fields=['drivetime'],\n",
    "    aliases=['Drivetime (Mins):'])\n",
    ")\n",
    "\n",
    "drive_15 = folium.GeoJson(\n",
    "    union_15,\n",
    "    name='15 Minutes',    \n",
    "    style_function= style,\n",
    "    ## changes styling of geo regions upon hover\n",
    "    highlight_function=lambda x: {'weight':3, 'color':'black', 'fillOpacity': 1}, \n",
    "    #tooltip can include information from any column in the GeoPandas dataframe   \n",
    "    tooltip=folium.features.GeoJsonTooltip(\n",
    "    fields=['drivetime'],\n",
    "    aliases=['Drivetime (Mins):'])\n",
    ")\n",
    "\n",
    "drive_20 = folium.GeoJson(\n",
    "    union_20,\n",
    "    name='20 Minutes',    \n",
    "    style_function= style,\n",
    "    ## changes styling of geo regions upon hover\n",
    "    highlight_function=lambda x: {'weight':3, 'color':'black', 'fillOpacity': 1}, \n",
    "    #tooltip can include information from any column in the GeoPandas dataframe   \n",
    "    tooltip=folium.features.GeoJsonTooltip(\n",
    "    fields=['drivetime'],\n",
    "    aliases=['Drivetime (Mins):'])\n",
    ")\n",
    "\n",
    "drive_25 = folium.GeoJson(\n",
    "    union_25,\n",
    "    name='25 Minutes',    \n",
    "    style_function= style,\n",
    "    ## changes styling of geo regions upon hover\n",
    "    highlight_function=lambda x: {'weight':3, 'color':'black', 'fillOpacity': 1}, \n",
    "    #tooltip can include information from any column in the GeoPandas dataframe   \n",
    "    tooltip=folium.features.GeoJsonTooltip(\n",
    "    fields=['drivetime'],\n",
    "    aliases=['Drivetime (Mins):'])\n",
    ")\n",
    "\n",
    "m.add_child(drive_25)\n",
    "m.add_child(drive_20)\n",
    "m.add_child(drive_15)\n",
    "m.add_child(drive_10)\n",
    "m.add_child(drive_5)\n",
    "\n",
    "# add the layer control\n",
    "folium.LayerControl().add_to(m)\n",
    "\n",
    "m.save(\"isochrone\\\\nj_drivetime_union_simple.html\")"
   ]
  }
 ],
 "metadata": {
  "kernelspec": {
   "display_name": "ox",
   "language": "python",
   "name": "ox"
  },
  "language_info": {
   "codemirror_mode": {
    "name": "ipython",
    "version": 3
   },
   "file_extension": ".py",
   "mimetype": "text/x-python",
   "name": "python",
   "nbconvert_exporter": "python",
   "pygments_lexer": "ipython3",
   "version": "3.8.5"
  }
 },
 "nbformat": 4,
 "nbformat_minor": 4
}
