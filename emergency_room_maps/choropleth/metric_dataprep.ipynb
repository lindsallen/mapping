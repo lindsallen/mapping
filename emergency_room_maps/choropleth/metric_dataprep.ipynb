{
 "cells": [
  {
   "cell_type": "code",
   "execution_count": 1,
   "metadata": {},
   "outputs": [],
   "source": [
    "import pandas as pd\n",
    "import time\n",
    "import os\n",
    "start_time = time.time()"
   ]
  },
  {
   "cell_type": "code",
   "execution_count": 2,
   "metadata": {},
   "outputs": [
    {
     "name": "stdout",
     "output_type": "stream",
     "text": [
      "1.1.1\n"
     ]
    }
   ],
   "source": [
    "print(pd.__version__)"
   ]
  },
  {
   "cell_type": "code",
   "execution_count": 3,
   "metadata": {},
   "outputs": [
    {
     "name": "stdout",
     "output_type": "stream",
     "text": [
      "C:\\Users\\linds\\Documents\\soa_prez_thegist\\choropleth\n"
     ]
    }
   ],
   "source": [
    "hwd = os.getcwd()\n",
    "print(hwd)"
   ]
  },
  {
   "cell_type": "code",
   "execution_count": 4,
   "metadata": {},
   "outputs": [],
   "source": [
    "os.chdir(\"..\")"
   ]
  },
  {
   "cell_type": "code",
   "execution_count": 5,
   "metadata": {},
   "outputs": [],
   "source": [
    "# Load beneficiary, outpatient, and carrier claims files\n",
    "ben_s1 = pd.read_csv(\"raw_data\\\\DE1_0_2008_Beneficiary_Summary_File_Sample_1.csv\", low_memory = False)\n",
    "car_a_s1 = pd.read_csv(\"raw_data\\DE1_0_2008_to_2010_Carrier_Claims_Sample_1A.csv\", low_memory = False)\n",
    "countyxwalk = pd.read_csv(\"gis_data\\\\ssa_fips_state_county2011.csv\", low_memory = False)"
   ]
  },
  {
   "cell_type": "code",
   "execution_count": 6,
   "metadata": {},
   "outputs": [],
   "source": [
    "# Pull records for beneficiaries in state of interest with Part B coverage\n",
    "# SSA state code 31 is NJ\n",
    "ben_s1_state = ben_s1[(ben_s1.SP_STATE_CODE == 31) & (ben_s1.BENE_SMI_CVRAGE_TOT_MONS > 0)]\n",
    "\n",
    "# Left join carrier claims to beneficiary data, to only retain claims associated with 2008 NJ beneficiary\n",
    "ben_s1_state_cara = pd.merge(ben_s1_state,car_a_s1,on='DESYNPUF_ID',how='left')"
   ]
  },
  {
   "cell_type": "code",
   "execution_count": 7,
   "metadata": {},
   "outputs": [
    {
     "name": "stdout",
     "output_type": "stream",
     "text": [
      "<class 'pandas.core.frame.DataFrame'>\n",
      "Int64Index: 74056 entries, 0 to 74055\n",
      "Columns: 173 entries, DESYNPUF_ID to LINE_ICD9_DGNS_CD_13\n",
      "dtypes: float64(104), int64(20), object(49)\n",
      "memory usage: 98.3+ MB\n"
     ]
    }
   ],
   "source": [
    "ben_s1_state_cara.info() #74,056 rows (NJ, Part B, car_a claims files sample 1)"
   ]
  },
  {
   "cell_type": "code",
   "execution_count": 8,
   "metadata": {},
   "outputs": [],
   "source": [
    "# add claims year for easier filtering\n",
    "ben_s1_state_cara['CLM_FROM_DT'] = ben_s1_state_cara['CLM_FROM_DT'].apply(str)\n",
    "ben_s1_state_cara['CLM_FROM_YR'] = ben_s1_state_cara['CLM_FROM_DT'].str.slice(0, 4)"
   ]
  },
  {
   "cell_type": "code",
   "execution_count": 9,
   "metadata": {},
   "outputs": [],
   "source": [
    "# roll-up state of interest er claims to SSA county level\n",
    "# only retain 2008 claims\n",
    "cara_county_metrics = ben_s1_state_cara[\n",
    "    (ben_s1_state_cara.HCPCS_CD_1.isin(\n",
    "        ['G0380','G0381','G0382','G0383','G0384','99281','99282','99283','99284','99285'])\n",
    "    ) &\n",
    "    (ben_s1_state_cara.CLM_FROM_YR == '2008')\n",
    "    ].groupby(['BENE_COUNTY_CD','CLM_FROM_YR'])['CLM_ID'].nunique()\n",
    "\n",
    "cara_county_metrics = cara_county_metrics.to_frame().reset_index()"
   ]
  },
  {
   "cell_type": "code",
   "execution_count": 10,
   "metadata": {},
   "outputs": [
    {
     "data": {
      "text/html": [
       "<div>\n",
       "<style scoped>\n",
       "    .dataframe tbody tr th:only-of-type {\n",
       "        vertical-align: middle;\n",
       "    }\n",
       "\n",
       "    .dataframe tbody tr th {\n",
       "        vertical-align: top;\n",
       "    }\n",
       "\n",
       "    .dataframe thead th {\n",
       "        text-align: right;\n",
       "    }\n",
       "</style>\n",
       "<table border=\"1\" class=\"dataframe\">\n",
       "  <thead>\n",
       "    <tr style=\"text-align: right;\">\n",
       "      <th></th>\n",
       "      <th>BENE_COUNTY_CD</th>\n",
       "      <th>CLM_FROM_YR</th>\n",
       "      <th>ER_VISITS</th>\n",
       "    </tr>\n",
       "  </thead>\n",
       "  <tbody>\n",
       "    <tr>\n",
       "      <th>0</th>\n",
       "      <td>0</td>\n",
       "      <td>2008</td>\n",
       "      <td>26</td>\n",
       "    </tr>\n",
       "    <tr>\n",
       "      <th>1</th>\n",
       "      <td>100</td>\n",
       "      <td>2008</td>\n",
       "      <td>70</td>\n",
       "    </tr>\n",
       "    <tr>\n",
       "      <th>2</th>\n",
       "      <td>150</td>\n",
       "      <td>2008</td>\n",
       "      <td>31</td>\n",
       "    </tr>\n",
       "    <tr>\n",
       "      <th>3</th>\n",
       "      <td>160</td>\n",
       "      <td>2008</td>\n",
       "      <td>31</td>\n",
       "    </tr>\n",
       "    <tr>\n",
       "      <th>4</th>\n",
       "      <td>180</td>\n",
       "      <td>2008</td>\n",
       "      <td>8</td>\n",
       "    </tr>\n",
       "  </tbody>\n",
       "</table>\n",
       "</div>"
      ],
      "text/plain": [
       "   BENE_COUNTY_CD CLM_FROM_YR  ER_VISITS\n",
       "0               0        2008         26\n",
       "1             100        2008         70\n",
       "2             150        2008         31\n",
       "3             160        2008         31\n",
       "4             180        2008          8"
      ]
     },
     "execution_count": 10,
     "metadata": {},
     "output_type": "execute_result"
    }
   ],
   "source": [
    "# rename distinct claim ID count to ER Visits\n",
    "cara_county_metrics.rename(columns={ cara_county_metrics.columns[2]: \"ER_VISITS\" }, inplace = True)\n",
    "\n",
    "cara_county_metrics.head()"
   ]
  },
  {
   "cell_type": "code",
   "execution_count": 11,
   "metadata": {},
   "outputs": [],
   "source": [
    "# Count Benes and MM by SSA County\n",
    "ben_county = ben_s1_state.groupby(\n",
    "    ['SP_STATE_CODE', 'BENE_COUNTY_CD']).agg(\n",
    "    {'DESYNPUF_ID':'nunique', 'BENE_SMI_CVRAGE_TOT_MONS': 'sum'}\n",
    ").reset_index().rename(columns={'DESYNPUF_ID':'BENE_COUNT'})"
   ]
  },
  {
   "cell_type": "code",
   "execution_count": 12,
   "metadata": {},
   "outputs": [
    {
     "name": "stdout",
     "output_type": "stream",
     "text": [
      "198.54749912147125\n"
     ]
    }
   ],
   "source": [
    "# Merge beneficiary count / MM at county level with ER visit count at county level\n",
    "ben_county = pd.merge(ben_county,cara_county_metrics,on='BENE_COUNTY_CD',how='left')\n",
    "\n",
    "# calculate ER visits per K\n",
    "ben_county['ER_K'] = round(12000*ben_county['ER_VISITS']/ben_county['BENE_SMI_CVRAGE_TOT_MONS'],0)\n",
    "\n",
    "## 198 visits on average\n",
    "print(12000*ben_county['ER_VISITS'].sum()/ben_county['BENE_SMI_CVRAGE_TOT_MONS'].sum())"
   ]
  },
  {
   "cell_type": "code",
   "execution_count": 13,
   "metadata": {},
   "outputs": [
    {
     "data": {
      "text/html": [
       "<div>\n",
       "<style scoped>\n",
       "    .dataframe tbody tr th:only-of-type {\n",
       "        vertical-align: middle;\n",
       "    }\n",
       "\n",
       "    .dataframe tbody tr th {\n",
       "        vertical-align: top;\n",
       "    }\n",
       "\n",
       "    .dataframe thead th {\n",
       "        text-align: right;\n",
       "    }\n",
       "</style>\n",
       "<table border=\"1\" class=\"dataframe\">\n",
       "  <thead>\n",
       "    <tr style=\"text-align: right;\">\n",
       "      <th></th>\n",
       "      <th>SP_STATE_CODE</th>\n",
       "      <th>BENE_COUNTY_CD</th>\n",
       "    </tr>\n",
       "  </thead>\n",
       "  <tbody>\n",
       "    <tr>\n",
       "      <th>0</th>\n",
       "      <td>31</td>\n",
       "      <td>0</td>\n",
       "    </tr>\n",
       "    <tr>\n",
       "      <th>1</th>\n",
       "      <td>31</td>\n",
       "      <td>100</td>\n",
       "    </tr>\n",
       "    <tr>\n",
       "      <th>2</th>\n",
       "      <td>31</td>\n",
       "      <td>150</td>\n",
       "    </tr>\n",
       "    <tr>\n",
       "      <th>3</th>\n",
       "      <td>31</td>\n",
       "      <td>160</td>\n",
       "    </tr>\n",
       "    <tr>\n",
       "      <th>4</th>\n",
       "      <td>31</td>\n",
       "      <td>180</td>\n",
       "    </tr>\n",
       "  </tbody>\n",
       "</table>\n",
       "</div>"
      ],
      "text/plain": [
       "   SP_STATE_CODE  BENE_COUNTY_CD\n",
       "0             31               0\n",
       "1             31             100\n",
       "2             31             150\n",
       "3             31             160\n",
       "4             31             180"
      ]
     },
     "execution_count": 13,
     "metadata": {},
     "output_type": "execute_result"
    }
   ],
   "source": [
    "ben_county[['SP_STATE_CODE', 'BENE_COUNTY_CD']].head()"
   ]
  },
  {
   "cell_type": "code",
   "execution_count": 14,
   "metadata": {},
   "outputs": [
    {
     "data": {
      "text/html": [
       "<div>\n",
       "<style scoped>\n",
       "    .dataframe tbody tr th:only-of-type {\n",
       "        vertical-align: middle;\n",
       "    }\n",
       "\n",
       "    .dataframe tbody tr th {\n",
       "        vertical-align: top;\n",
       "    }\n",
       "\n",
       "    .dataframe thead th {\n",
       "        text-align: right;\n",
       "    }\n",
       "</style>\n",
       "<table border=\"1\" class=\"dataframe\">\n",
       "  <thead>\n",
       "    <tr style=\"text-align: right;\">\n",
       "      <th></th>\n",
       "      <th>county</th>\n",
       "      <th>state</th>\n",
       "      <th>ssacounty</th>\n",
       "      <th>fipscounty</th>\n",
       "      <th>cbsa</th>\n",
       "      <th>cbsaname</th>\n",
       "      <th>ssastate</th>\n",
       "      <th>fipsstate</th>\n",
       "    </tr>\n",
       "  </thead>\n",
       "  <tbody>\n",
       "    <tr>\n",
       "      <th>1804</th>\n",
       "      <td>ATLANTIC</td>\n",
       "      <td>NJ</td>\n",
       "      <td>31000</td>\n",
       "      <td>34001</td>\n",
       "      <td>12100.0</td>\n",
       "      <td>Atlantic City-Hammonton, NJ</td>\n",
       "      <td>31</td>\n",
       "      <td>34</td>\n",
       "    </tr>\n",
       "    <tr>\n",
       "      <th>1805</th>\n",
       "      <td>BERGEN</td>\n",
       "      <td>NJ</td>\n",
       "      <td>31100</td>\n",
       "      <td>34003</td>\n",
       "      <td>35644.0</td>\n",
       "      <td>New York-White Plains-Wayne, NY-NJ</td>\n",
       "      <td>31</td>\n",
       "      <td>34</td>\n",
       "    </tr>\n",
       "    <tr>\n",
       "      <th>1806</th>\n",
       "      <td>BURLINGTON</td>\n",
       "      <td>NJ</td>\n",
       "      <td>31150</td>\n",
       "      <td>34005</td>\n",
       "      <td>15804.0</td>\n",
       "      <td>Camden, NJ</td>\n",
       "      <td>31</td>\n",
       "      <td>34</td>\n",
       "    </tr>\n",
       "    <tr>\n",
       "      <th>1807</th>\n",
       "      <td>CAMDEN</td>\n",
       "      <td>NJ</td>\n",
       "      <td>31160</td>\n",
       "      <td>34007</td>\n",
       "      <td>15804.0</td>\n",
       "      <td>Camden, NJ</td>\n",
       "      <td>31</td>\n",
       "      <td>34</td>\n",
       "    </tr>\n",
       "    <tr>\n",
       "      <th>1808</th>\n",
       "      <td>CAPE MAY</td>\n",
       "      <td>NJ</td>\n",
       "      <td>31180</td>\n",
       "      <td>34009</td>\n",
       "      <td>36140.0</td>\n",
       "      <td>Ocean City, NJ</td>\n",
       "      <td>31</td>\n",
       "      <td>34</td>\n",
       "    </tr>\n",
       "  </tbody>\n",
       "</table>\n",
       "</div>"
      ],
      "text/plain": [
       "          county state  ssacounty  fipscounty     cbsa  \\\n",
       "1804    ATLANTIC    NJ      31000       34001  12100.0   \n",
       "1805      BERGEN    NJ      31100       34003  35644.0   \n",
       "1806  BURLINGTON    NJ      31150       34005  15804.0   \n",
       "1807      CAMDEN    NJ      31160       34007  15804.0   \n",
       "1808    CAPE MAY    NJ      31180       34009  36140.0   \n",
       "\n",
       "                                cbsaname  ssastate  fipsstate  \n",
       "1804         Atlantic City-Hammonton, NJ        31         34  \n",
       "1805  New York-White Plains-Wayne, NY-NJ        31         34  \n",
       "1806                          Camden, NJ        31         34  \n",
       "1807                          Camden, NJ        31         34  \n",
       "1808                      Ocean City, NJ        31         34  "
      ]
     },
     "execution_count": 14,
     "metadata": {},
     "output_type": "execute_result"
    }
   ],
   "source": [
    "countyxwalk[countyxwalk['ssastate'] == 31].head()"
   ]
  },
  {
   "cell_type": "code",
   "execution_count": 15,
   "metadata": {},
   "outputs": [
    {
     "data": {
      "text/html": [
       "<div>\n",
       "<style scoped>\n",
       "    .dataframe tbody tr th:only-of-type {\n",
       "        vertical-align: middle;\n",
       "    }\n",
       "\n",
       "    .dataframe tbody tr th {\n",
       "        vertical-align: top;\n",
       "    }\n",
       "\n",
       "    .dataframe thead th {\n",
       "        text-align: right;\n",
       "    }\n",
       "</style>\n",
       "<table border=\"1\" class=\"dataframe\">\n",
       "  <thead>\n",
       "    <tr style=\"text-align: right;\">\n",
       "      <th></th>\n",
       "      <th>SP_STATE_CODE</th>\n",
       "      <th>BENE_COUNTY_CD</th>\n",
       "    </tr>\n",
       "  </thead>\n",
       "  <tbody>\n",
       "    <tr>\n",
       "      <th>0</th>\n",
       "      <td>31</td>\n",
       "      <td>31000</td>\n",
       "    </tr>\n",
       "    <tr>\n",
       "      <th>1</th>\n",
       "      <td>31</td>\n",
       "      <td>31100</td>\n",
       "    </tr>\n",
       "    <tr>\n",
       "      <th>2</th>\n",
       "      <td>31</td>\n",
       "      <td>31150</td>\n",
       "    </tr>\n",
       "    <tr>\n",
       "      <th>3</th>\n",
       "      <td>31</td>\n",
       "      <td>31160</td>\n",
       "    </tr>\n",
       "    <tr>\n",
       "      <th>4</th>\n",
       "      <td>31</td>\n",
       "      <td>31180</td>\n",
       "    </tr>\n",
       "  </tbody>\n",
       "</table>\n",
       "</div>"
      ],
      "text/plain": [
       "   SP_STATE_CODE  BENE_COUNTY_CD\n",
       "0             31           31000\n",
       "1             31           31100\n",
       "2             31           31150\n",
       "3             31           31160\n",
       "4             31           31180"
      ]
     },
     "execution_count": 15,
     "metadata": {},
     "output_type": "execute_result"
    }
   ],
   "source": [
    "# concatenate state and county code to be able to join to SSA to FIPS xwalk\n",
    "ben_county['BENE_COUNTY_CD'] = ben_county['SP_STATE_CODE'].astype(str) + ben_county['BENE_COUNTY_CD'].astype(str)\n",
    "\n",
    "# override county code 310 which should be 31000 after transformation\n",
    "ben_county.replace('310', '31000', inplace=True)\n",
    "\n",
    "# convert new derived county code back to int to finish transformation needed for join\n",
    "ben_county['BENE_COUNTY_CD'] = ben_county['BENE_COUNTY_CD'].astype(str).astype(int)\n",
    "\n",
    "ben_county[['SP_STATE_CODE', 'BENE_COUNTY_CD']].head()"
   ]
  },
  {
   "cell_type": "code",
   "execution_count": 16,
   "metadata": {},
   "outputs": [],
   "source": [
    "# join summarized df with SSA to FIPS xwalk\n",
    "ben_county = pd.merge(ben_county,countyxwalk,how = 'left', left_on=['BENE_COUNTY_CD'], right_on = ['ssacounty'])"
   ]
  },
  {
   "cell_type": "code",
   "execution_count": 17,
   "metadata": {},
   "outputs": [],
   "source": [
    "ben_county.to_csv(\"data\\\\NJ_ER_County_2008.csv\", index = False)"
   ]
  },
  {
   "cell_type": "code",
   "execution_count": 18,
   "metadata": {},
   "outputs": [
    {
     "name": "stdout",
     "output_type": "stream",
     "text": [
      "2.7732325037320456 minutes\n"
     ]
    }
   ],
   "source": [
    "print((time.time() - start_time)/60, \"minutes\")"
   ]
  }
 ],
 "metadata": {
  "kernelspec": {
   "display_name": "ox",
   "language": "python",
   "name": "ox"
  },
  "language_info": {
   "codemirror_mode": {
    "name": "ipython",
    "version": 3
   },
   "file_extension": ".py",
   "mimetype": "text/x-python",
   "name": "python",
   "nbconvert_exporter": "python",
   "pygments_lexer": "ipython3",
   "version": "3.8.5"
  }
 },
 "nbformat": 4,
 "nbformat_minor": 4
}
